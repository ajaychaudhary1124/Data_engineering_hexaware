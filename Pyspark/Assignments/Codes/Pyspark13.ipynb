{
 "cells": [
  {
   "cell_type": "code",
   "execution_count": 36,
   "id": "11487d8b-c450-419b-91cf-88a0e89241b7",
   "metadata": {},
   "outputs": [
    {
     "name": "stdout",
     "output_type": "stream",
     "text": [
      "[1, 2, 3, 4, 5]\n"
     ]
    }
   ],
   "source": [
    "\n",
    "#.collect action\n",
    "collect_rdd = sc.parallelize([1,2,3,4,5])\n",
    "print(collect_rdd.collect())\n"
   ]
  },
  {
   "cell_type": "raw",
   "id": "fecf1857-a203-4204-8226-3e49e10ea916",
   "metadata": {},
   "source": [
    ".count() action"
   ]
  },
  {
   "cell_type": "code",
   "execution_count": 5,
   "id": "b275c237-67e0-42bc-97cd-d67c8b43e558",
   "metadata": {},
   "outputs": [
    {
     "name": "stdout",
     "output_type": "stream",
     "text": [
      "10\n"
     ]
    }
   ],
   "source": [
    "from pyspark import SparkContext\n",
    "sc = SparkContext.getOrCreate()\n",
    "count_rdd = sc.parallelize([1,2,3,4,5,5,6,7,8,9])\n",
    "print(count_rdd.count())"
   ]
  },
  {
   "cell_type": "raw",
   "id": "956e757a-7b63-440d-90f5-8224454ea7a7",
   "metadata": {},
   "source": [
    ".first() action"
   ]
  },
  {
   "cell_type": "code",
   "execution_count": 7,
   "id": "6f61c51a-0acd-40c0-8fa7-b2254047a8c8",
   "metadata": {},
   "outputs": [
    {
     "name": "stdout",
     "output_type": "stream",
     "text": [
      "1\n"
     ]
    }
   ],
   "source": [
    "from pyspark import SparkContext\n",
    "sc = SparkContext.getOrCreate()\n",
    "count_rdd = sc.parallelize([1,2,3,4,5,5,6,7,8,9])\n",
    "print(count_rdd.first())"
   ]
  },
  {
   "cell_type": "raw",
   "id": "d82f576b-bcca-4911-b54d-1f26578c47b1",
   "metadata": {},
   "source": [
    ".take() action"
   ]
  },
  {
   "cell_type": "code",
   "execution_count": 8,
   "id": "b2f601dc-b446-4f13-b4b0-1193cf69dc08",
   "metadata": {},
   "outputs": [
    {
     "name": "stdout",
     "output_type": "stream",
     "text": [
      "[1, 2, 3, 4]\n"
     ]
    }
   ],
   "source": [
    "from pyspark import SparkContext\n",
    "sc = SparkContext.getOrCreate()\n",
    "count_rdd = sc.parallelize([1,2,3,4,5,5,6,7,8,9])\n",
    "print(count_rdd.take(4))"
   ]
  },
  {
   "cell_type": "raw",
   "id": "1642df47-383f-444c-9ec2-9efa27ae1741",
   "metadata": {},
   "source": [
    ".reduce() action"
   ]
  },
  {
   "cell_type": "code",
   "execution_count": 6,
   "id": "281b2782-590c-4ae1-afa3-5004138fd3fc",
   "metadata": {},
   "outputs": [
    {
     "name": "stdout",
     "output_type": "stream",
     "text": [
      "14\n"
     ]
    }
   ],
   "source": [
    "from pyspark import SparkContext\n",
    "sc = SparkContext.getOrCreate()\n",
    "reduce_rdd = sc.parallelize([1,3,4,6])\n",
    "print(reduce_rdd.reduce(lambda x, y : x + y))"
   ]
  },
  {
   "cell_type": "raw",
   "id": "e837f4c5-e03e-450b-abc0-5d7a64f0d27a",
   "metadata": {},
   "source": [
    ".saveAsTextFile() action"
   ]
  },
  {
   "cell_type": "code",
   "execution_count": 3,
   "id": "df5434fe-44a6-4b2b-81ac-d4a65948ced5",
   "metadata": {},
   "outputs": [],
   "source": [
    "from pyspark import SparkContext\n",
    "sc = SparkContext.getOrCreate()\n",
    "save_rdd = sc.parallelize([1,2,3,4,5,6])\n",
    "save_rdd.saveAsTextFile('file.txt')"
   ]
  },
  {
   "cell_type": "raw",
   "id": "7a2ccd0a-0b1f-4996-8920-b6e3a353aa51",
   "metadata": {},
   "source": [
    "Transformations in PySpark RDDs\n"
   ]
  },
  {
   "cell_type": "raw",
   "id": "c10c89e0-ac2a-4851-856d-480bd6f458e6",
   "metadata": {},
   "source": [
    ".map() Transformation"
   ]
  },
  {
   "cell_type": "code",
   "execution_count": 10,
   "id": "f44956a6-7158-4c0e-8688-e8a85cbf4e5b",
   "metadata": {},
   "outputs": [
    {
     "name": "stdout",
     "output_type": "stream",
     "text": [
      "[101, 102, 103, 104]\n"
     ]
    }
   ],
   "source": [
    "#.map() Transformation\n",
    "my_rdd = sc.parallelize([1,2,3,4])\n",
    "print(my_rdd.map(lambda x: x+ 100).collect())\n"
   ]
  },
  {
   "cell_type": "raw",
   "id": "dec40bae-f7eb-4e71-9720-aa8280a6ffbe",
   "metadata": {},
   "source": [
    ".filter() transformation"
   ]
  },
  {
   "cell_type": "code",
   "execution_count": 11,
   "id": "3fc88348-3174-4ce2-aadd-61ada975f8d5",
   "metadata": {},
   "outputs": [
    {
     "name": "stdout",
     "output_type": "stream",
     "text": [
      "[2, 4, 6]\n"
     ]
    }
   ],
   "source": [
    "#.filter() transformation\n",
    "filter_rdd = sc.parallelize([2, 3, 4, 5, 6, 7])\n",
    "print(filter_rdd.filter(lambda x: x%2 == 0).collect())\n"
   ]
  },
  {
   "cell_type": "code",
   "execution_count": null,
   "id": "f4640c61-adb2-450e-8068-94b30b37dc08",
   "metadata": {},
   "outputs": [],
   "source": [
    ".union() transformation"
   ]
  },
  {
   "cell_type": "code",
   "execution_count": 13,
   "id": "ea330d0e-2018-4aa8-abfe-65cf699a04d6",
   "metadata": {},
   "outputs": [
    {
     "name": "stderr",
     "output_type": "stream",
     "text": [
      "[Stage 12:=============================>                            (4 + 4) / 8]\r"
     ]
    },
    {
     "name": "stdout",
     "output_type": "stream",
     "text": [
      "[2, 4, 6, 8, 6, 9]\n"
     ]
    },
    {
     "name": "stderr",
     "output_type": "stream",
     "text": [
      "                                                                                \r"
     ]
    }
   ],
   "source": [
    "#.union() transformation\n",
    "union_inp = sc.parallelize([2,4,5,6,7,8,9])\n",
    "union_rdd_1 = union_inp.filter(lambda x: x % 2 == 0)\n",
    "union_rdd_2 = union_inp.filter(lambda x: x % 3 == 0)\n",
    "print(union_rdd_1.union(union_rdd_2).collect())"
   ]
  },
  {
   "cell_type": "code",
   "execution_count": null,
   "id": "6027dca8-b5cc-4a66-8147-a741e9c6ff99",
   "metadata": {},
   "outputs": [],
   "source": [
    ".flatMap()transformation"
   ]
  },
  {
   "cell_type": "code",
   "execution_count": 15,
   "id": "4efa3520-54f5-46e2-b617-707fd04048fc",
   "metadata": {},
   "outputs": [
    {
     "data": {
      "text/plain": [
       "['Hey',\n",
       " 'there',\n",
       " 'This',\n",
       " 'is',\n",
       " 'PySpark',\n",
       " 'RDD',\n",
       " 'Transformations',\n",
       " 'Hello',\n",
       " 'World!!']"
      ]
     },
     "execution_count": 15,
     "metadata": {},
     "output_type": "execute_result"
    }
   ],
   "source": [
    "#.flatMap()transformation\n",
    "flatmap_rdd = sc.parallelize([\"Hey there\", \"This is PySpark RDD Transformations\",\"Hello World!!\"])\n",
    "(flatmap_rdd.flatMap(lambda x: x.split(\" \")).collect())"
   ]
  },
  {
   "cell_type": "raw",
   "id": "4c3e801d-281a-41e9-b013-c3bc6d78e39e",
   "metadata": {},
   "source": [
    "Transformation in pair RDDs"
   ]
  },
  {
   "cell_type": "code",
   "execution_count": 31,
   "id": "8c0b9074-d186-43d7-838b-bc07c0db3428",
   "metadata": {},
   "outputs": [
    {
     "name": "stderr",
     "output_type": "stream",
     "text": [
      "[Stage 46:>                                                         (0 + 4) / 4]\r"
     ]
    },
    {
     "name": "stdout",
     "output_type": "stream",
     "text": [
      "[('Rohan', 44), ('Rahul', 48), ('Swati', 45), ('Shreya', 50), ('Abhay', 55)]\n"
     ]
    },
    {
     "name": "stderr",
     "output_type": "stream",
     "text": [
      "                                                                                \r"
     ]
    }
   ],
   "source": [
    "#Transformation in pair RDDs\n",
    "#.reduceByKey() Transformation\n",
    "marks_rdd = sc.parallelize([('Rahul', 25), ('Swati', 26), ('Shreya', 22), ('Abhay', 29), \n",
    "                            ('Rohan', 22), ('Rahul', 23), ('Swati', 19), ('Shreya', 28), ('Abhay', 26), ('Rohan', 22)])\n",
    "print(marks_rdd.reduceByKey(lambda x, y: x + y).collect())\n"
   ]
  },
  {
   "cell_type": "code",
   "execution_count": 32,
   "id": "d122267d-922b-4e51-b609-406334dac123",
   "metadata": {},
   "outputs": [
    {
     "name": "stderr",
     "output_type": "stream",
     "text": [
      "                                                                                \r"
     ]
    },
    {
     "name": "stdout",
     "output_type": "stream",
     "text": [
      "[('Abhay', 29), ('Abhay', 26), ('Rahul', 25), ('Rahul', 23), ('Rohan', 22), ('Rohan', 22), ('Shreya', 22), ('Shreya', 28), ('Swati', 26), ('Swati', 19)]\n"
     ]
    }
   ],
   "source": [
    "#.sortByKey() Transformation\n",
    "\n",
    "marks_rdd = sc.parallelize([('Rahul', 25), ('Swati', 26), ('Shreya', 22), ('Abhay', 29), \n",
    "                            ('Rohan', 22), ('Rahul', 23), ('Swati', 19), ('Shreya', 28), ('Abhay', 26), ('Rohan', 22)])\n",
    "print(marks_rdd.sortByKey('ascending').collect())\n"
   ]
  },
  {
   "cell_type": "code",
   "execution_count": 33,
   "id": "cb7821ff-b722-4d26-ae9d-c63caa2e22f1",
   "metadata": {},
   "outputs": [
    {
     "name": "stdout",
     "output_type": "stream",
     "text": [
      "Rohan [22, 22]\n",
      "Rahul [25, 23]\n",
      "Swati [26, 19]\n",
      "Shreya [22, 28]\n",
      "Abhay [29, 26]\n"
     ]
    }
   ],
   "source": [
    "#.groupByKey() Transformation\n",
    "marks_rdd = sc.parallelize([('Rahul', 25), ('Swati', 26), ('Shreya', 22), ('Abhay', 29), \n",
    "                            ('Rohan', 22), ('Rahul', 23), ('Swati', 19), ('Shreya', 28), ('Abhay', 26), ('Rohan', 22)])\n",
    "dict_rdd = marks_rdd.groupByKey().collect()\n",
    "for key, value in dict_rdd:\n",
    "    print(key, list(value))\n"
   ]
  },
  {
   "cell_type": "raw",
   "id": "fcfd5077-c856-4440-80fb-a72411a8d828",
   "metadata": {},
   "source": [
    "Actions in Pair RDDs"
   ]
  },
  {
   "cell_type": "code",
   "execution_count": 34,
   "id": "de8a6634-b6c8-4580-853d-78fa317dd691",
   "metadata": {},
   "outputs": [
    {
     "name": "stdout",
     "output_type": "stream",
     "text": [
      "Rahul 2\n",
      "Swati 2\n",
      "Rohan 2\n",
      "Shreya 1\n",
      "Abhay 1\n"
     ]
    }
   ],
   "source": [
    "\n",
    "# The countByKey() Action\n",
    "marks_rdd = sc.parallelize([('Rahul', 25), ('Swati', 26), ('Rohan', 22), ('Rahul', 23), ('Swati', 19),\n",
    "                            ('Shreya', 28), ('Abhay', 26), ('Rohan', 22)])\n",
    "dict_rdd = marks_rdd.countByKey().items()\n",
    "for key, value in dict_rdd:\n",
    "    print(key, value)\n"
   ]
  },
  {
   "cell_type": "code",
   "execution_count": null,
   "id": "6145b63e-fa3c-450e-8ad0-9165e9749376",
   "metadata": {},
   "outputs": [],
   "source": []
  },
  {
   "cell_type": "code",
   "execution_count": null,
   "id": "32c9a40c-8174-4f07-bfbf-4eeefd1d7c1e",
   "metadata": {},
   "outputs": [],
   "source": []
  },
  {
   "cell_type": "code",
   "execution_count": 16,
   "id": "23059945-3945-4549-9e07-b2b20783cf61",
   "metadata": {},
   "outputs": [
    {
     "name": "stdout",
     "output_type": "stream",
     "text": [
      "+------+----------+------+------+\n",
      "|  Name|       DOB|Gender|salary|\n",
      "+------+----------+------+------+\n",
      "|   Ram|1991-04-01|     M|  3000|\n",
      "|  Mike|2000-05-19|     M|  4000|\n",
      "|Rohini|1978-09-05|     M|  4000|\n",
      "| Maria|1967-12-01|     F|  4000|\n",
      "| Jenis|1980-02-17|     F|  1200|\n",
      "+------+----------+------+------+\n",
      "\n"
     ]
    }
   ],
   "source": [
    "from pyspark.sql import SparkSession\n",
    " \n",
    "# Create a spark session\n",
    "spark = SparkSession.builder.appName('PySpark_example').getOrCreate()\n",
    " \n",
    "# Create data in dataframe\n",
    "data = [(('Ram'), '1991-04-01', 'M', 3000),\n",
    "       (('Mike'), '2000-05-19', 'M', 4000),\n",
    "       (('Rohini'), '1978-09-05', 'M', 4000),\n",
    "       (('Maria'), '1967-12-01', 'F', 4000),\n",
    "       (('Jenis'), '1980-02-17', 'F', 1200)]\n",
    " \n",
    "# Column names in dataframe\n",
    "columns = [\"Name\", \"DOB\", \"Gender\", \"salary\"]\n",
    " \n",
    "# Create the spark dataframe\n",
    "df = spark.createDataFrame(data=data,schema=columns)\n",
    " \n",
    "# Print the dataframe\n",
    "df.show()"
   ]
  },
  {
   "cell_type": "raw",
   "id": "e54fdb42-d538-4a2e-9574-53955b0e0459",
   "metadata": {},
   "source": [
    "renaming column using .withColumnRenamed()"
   ]
  },
  {
   "cell_type": "code",
   "execution_count": 35,
   "id": "a0a15ff7-f676-4763-8352-b3181c2c399f",
   "metadata": {},
   "outputs": [
    {
     "name": "stdout",
     "output_type": "stream",
     "text": [
      "+------+-----------+------+------+\n",
      "|  Name|DateOfBirth|Gender|salary|\n",
      "+------+-----------+------+------+\n",
      "|   Ram| 1991-04-01|     M|  3000|\n",
      "|  Mike| 2000-05-19|     M|  4000|\n",
      "|Rohini| 1978-09-05|     M|  4000|\n",
      "| Maria| 1967-12-01|     F|  4000|\n",
      "| Jenis| 1980-02-17|     F|  1200|\n",
      "+------+-----------+------+------+\n",
      "\n"
     ]
    }
   ],
   "source": [
    "df.withColumnRenamed(\"DOB\",\"DateOfBirth\").show()"
   ]
  },
  {
   "cell_type": "raw",
   "id": "e93efd81-12f3-470f-9131-f786d6b9309b",
   "metadata": {},
   "source": [
    "Renaming multiple columns \n"
   ]
  },
  {
   "cell_type": "code",
   "execution_count": 19,
   "id": "5d00cb4b-0e05-4597-9d94-b1637c1eb00b",
   "metadata": {},
   "outputs": [
    {
     "name": "stdout",
     "output_type": "stream",
     "text": [
      "+------+----------+---+------+\n",
      "|  Name|       DOB|Sex|Amount|\n",
      "+------+----------+---+------+\n",
      "|   Ram|1991-04-01|  M|  3000|\n",
      "|  Mike|2000-05-19|  M|  4000|\n",
      "|Rohini|1978-09-05|  M|  4000|\n",
      "| Maria|1967-12-01|  F|  4000|\n",
      "| Jenis|1980-02-17|  F|  1200|\n",
      "+------+----------+---+------+\n",
      "\n"
     ]
    }
   ],
   "source": [
    "df.withColumnRenamed(\"Gender\",\"Sex\").withColumnRenamed(\"salary\",\"Amount\").show()"
   ]
  },
  {
   "cell_type": "raw",
   "id": "9ea0712d-553c-4ca5-b5f3-d9f7f1c9932b",
   "metadata": {},
   "source": [
    "Using selectExpr()"
   ]
  },
  {
   "cell_type": "code",
   "execution_count": 26,
   "id": "79e3c71b-b0a8-4dd0-b4d7-02858fffac40",
   "metadata": {},
   "outputs": [
    {
     "name": "stdout",
     "output_type": "stream",
     "text": [
      "+------+----------+------+------+\n",
      "|  name|       DOB|Gender|salary|\n",
      "+------+----------+------+------+\n",
      "|   Ram|1991-04-01|     M|  3000|\n",
      "|  Mike|2000-05-19|     M|  4000|\n",
      "|Rohini|1978-09-05|     M|  4000|\n",
      "| Maria|1967-12-01|     F|  4000|\n",
      "| Jenis|1980-02-17|     F|  1200|\n",
      "+------+----------+------+------+\n",
      "\n"
     ]
    }
   ],
   "source": [
    "data = df.selectExpr(\"Name as name\",\"DOB\",\"Gender\",\"salary\")\n",
    "data.show()"
   ]
  },
  {
   "cell_type": "raw",
   "id": "3874efb7-52a7-48ab-8ad1-7353be5aaa23",
   "metadata": {},
   "source": [
    "Using select()method"
   ]
  },
  {
   "cell_type": "code",
   "execution_count": 28,
   "id": "94175a9a-ddf8-4467-94e3-4d97aea590f0",
   "metadata": {},
   "outputs": [
    {
     "name": "stdout",
     "output_type": "stream",
     "text": [
      "+------+----------+---+------+\n",
      "|  Name|       DOB|Sex|Amount|\n",
      "+------+----------+---+------+\n",
      "|   Ram|1991-04-01|  M|  3000|\n",
      "|  Mike|2000-05-19|  M|  4000|\n",
      "|Rohini|1978-09-05|  M|  4000|\n",
      "| Maria|1967-12-01|  F|  4000|\n",
      "| Jenis|1980-02-17|  F|  1200|\n",
      "+------+----------+---+------+\n",
      "\n"
     ]
    }
   ],
   "source": [
    "from pyspark.sql.functions import col\n",
    "\n",
    "data = df.select(col(\"Name\"),col(\"DOB\"),\n",
    "                 col(\"Gender\").alias('Sex'),\n",
    "                 col(\"salary\").alias('Amount'))\n",
    "data.show()"
   ]
  },
  {
   "cell_type": "raw",
   "id": "cc300c2c-a544-4d70-8d3c-3667ba00375b",
   "metadata": {},
   "source": [
    "using toDF() method"
   ]
  },
  {
   "cell_type": "code",
   "execution_count": 29,
   "id": "fa434814-e1d6-4523-a40a-f2386462668d",
   "metadata": {},
   "outputs": [
    {
     "name": "stdout",
     "output_type": "stream",
     "text": [
      "+--------+-------------+-----------+-----------+\n",
      "|Emp Name|Date of Birth| Gender-m/f|Paid salary|\n",
      "+--------+-------------+-----------+-----------+\n",
      "|     Ram|   1991-04-01|          M|       3000|\n",
      "|    Mike|   2000-05-19|          M|       4000|\n",
      "|  Rohini|   1978-09-05|          M|       4000|\n",
      "|   Maria|   1967-12-01|          F|       4000|\n",
      "|   Jenis|   1980-02-17|          F|       1200|\n",
      "+--------+-------------+-----------+-----------+\n",
      "\n"
     ]
    }
   ],
   "source": [
    "Data_list = [\"Emp Name\",\"Date of Birth\",\n",
    "             \" Gender-m/f\",\"Paid salary\"]\n",
    " \n",
    "new_df = df.toDF(*Data_list)\n",
    "new_df.show()"
   ]
  },
  {
   "cell_type": "code",
   "execution_count": null,
   "id": "34bf525e-d513-4626-b6a7-75b00cbfb01c",
   "metadata": {},
   "outputs": [],
   "source": []
  },
  {
   "cell_type": "code",
   "execution_count": null,
   "id": "822930d4-0381-4af3-918d-7d5992126636",
   "metadata": {},
   "outputs": [],
   "source": []
  }
 ],
 "metadata": {
  "kernelspec": {
   "display_name": "Python 3 (ipykernel)",
   "language": "python",
   "name": "python3"
  },
  "language_info": {
   "codemirror_mode": {
    "name": "ipython",
    "version": 3
   },
   "file_extension": ".py",
   "mimetype": "text/x-python",
   "name": "python",
   "nbconvert_exporter": "python",
   "pygments_lexer": "ipython3",
   "version": "3.11.2"
  }
 },
 "nbformat": 4,
 "nbformat_minor": 5
}
