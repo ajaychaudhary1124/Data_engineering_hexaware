{
 "cells": [
  {
   "cell_type": "code",
   "execution_count": 2,
   "id": "39831d06-710c-4c1a-8b24-72c1a3b5d57c",
   "metadata": {},
   "outputs": [],
   "source": [
    "from pyspark.sql import SparkSession\n",
    "spark=SparkSession.builder.appName(\"PySpark_codingChallenge\").getOrCreate()"
   ]
  },
  {
   "cell_type": "code",
   "execution_count": 3,
   "id": "05ecba6b-b87e-4463-af51-2b205470bf43",
   "metadata": {},
   "outputs": [
    {
     "name": "stdout",
     "output_type": "stream",
     "text": [
      "root\n",
      " |-- emp_id: long (nullable = true)\n",
      " |-- name: string (nullable = true)\n",
      " |-- superior_emp_id: long (nullable = true)\n",
      " |-- year_joined: string (nullable = true)\n",
      " |-- emp_dept_id: string (nullable = true)\n",
      " |-- gender: string (nullable = true)\n",
      " |-- salary: long (nullable = true)\n",
      "\n"
     ]
    },
    {
     "name": "stderr",
     "output_type": "stream",
     "text": [
      "                                                                                \r"
     ]
    },
    {
     "name": "stdout",
     "output_type": "stream",
     "text": [
      "+------+-------+---------------+-----------+-----------+------+------+\n",
      "|emp_id|   name|superior_emp_id|year_joined|emp_dept_id|gender|salary|\n",
      "+------+-------+---------------+-----------+-----------+------+------+\n",
      "|     1|   John|             -1|       2018|         10|     M|  3000|\n",
      "|     2|Emerald|              1|       2010|         20|     F|  4000|\n",
      "|     3| Dustin|              1|       2010|         10|     M|  1000|\n",
      "|     4|  Nancy|              2|       2005|         10|     F|  2000|\n",
      "|     5|  Brown|              2|       2010|         40|      |    -1|\n",
      "|     6|  Brown|              2|       2010|         50|      |    -1|\n",
      "+------+-------+---------------+-----------+-----------+------+------+\n",
      "\n",
      "root\n",
      " |-- dept_name: string (nullable = true)\n",
      " |-- dept_id: long (nullable = true)\n",
      "\n",
      "+---------+-------+\n",
      "|dept_name|dept_id|\n",
      "+---------+-------+\n",
      "|  Finance|     10|\n",
      "|Marketing|     20|\n",
      "|    Sales|     30|\n",
      "|       IT|     40|\n",
      "+---------+-------+\n",
      "\n"
     ]
    }
   ],
   "source": [
    "#creating two dataframes for joins to be performed\n",
    "emp = [(1,\"John\",-1,\"2018\",\"10\",\"M\",3000),(2, \"Emerald\",1 , \"2010\", \"20\",\"F\", 4000),(3,\"Dustin\",1,\"2010\",\"10\",\"M\",1000),\n",
    "       (4, \"Nancy\",2 ,\"2005\",\"10\",\"F\",2000),(5,\"Brown\",2,\"2010\",\"40\",\"\",-1),(6, \"Brown\", 2, \"2010\",\"50\",\"\",-1)]\n",
    "empColumns = [\"emp_id\",\"name\",\"superior_emp_id\",\"year_joined\", \"emp_dept_id\",\"gender\",\"salary\"]\n",
    "\n",
    "empDF = spark.createDataFrame(data=emp, schema = empColumns)\n",
    "empDF.printSchema()\n",
    "empDF.show()\n",
    "\n",
    "dept = [(\"Finance\",10),(\"Marketing\",20),(\"Sales\",30),(\"IT\",40)]\n",
    "deptColumns = [\"dept_name\",\"dept_id\"]\n",
    "deptDF = spark.createDataFrame(data=dept, schema = deptColumns)\n",
    "deptDF.printSchema()\n",
    "deptDF.show()\n"
   ]
  },
  {
   "cell_type": "code",
   "execution_count": 4,
   "id": "152fa09d-0e53-49b9-955e-2fa06cfe1dd0",
   "metadata": {},
   "outputs": [
    {
     "name": "stderr",
     "output_type": "stream",
     "text": [
      "[Stage 8:>                                                          (0 + 1) / 1]\r"
     ]
    },
    {
     "name": "stdout",
     "output_type": "stream",
     "text": [
      "+------+-------+---------------+-----------+-----------+------+------+---------+-------+\n",
      "|emp_id|   name|superior_emp_id|year_joined|emp_dept_id|gender|salary|dept_name|dept_id|\n",
      "+------+-------+---------------+-----------+-----------+------+------+---------+-------+\n",
      "|     1|   John|             -1|       2018|         10|     M|  3000|  Finance|     10|\n",
      "|     3| Dustin|              1|       2010|         10|     M|  1000|  Finance|     10|\n",
      "|     4|  Nancy|              2|       2005|         10|     F|  2000|  Finance|     10|\n",
      "|     2|Emerald|              1|       2010|         20|     F|  4000|Marketing|     20|\n",
      "|     5|  Brown|              2|       2010|         40|      |    -1|       IT|     40|\n",
      "+------+-------+---------------+-----------+-----------+------+------+---------+-------+\n",
      "\n"
     ]
    },
    {
     "name": "stderr",
     "output_type": "stream",
     "text": [
      "                                                                                \r"
     ]
    }
   ],
   "source": [
    "#inner join\n",
    "empDF.join(deptDF,empDF.emp_dept_id ==  deptDF.dept_id,\"inner\").show()"
   ]
  },
  {
   "cell_type": "code",
   "execution_count": 5,
   "id": "67945afb-89c7-4a89-acb1-88cdefd1e05c",
   "metadata": {},
   "outputs": [
    {
     "name": "stderr",
     "output_type": "stream",
     "text": [
      "[Stage 10:>                                                         (0 + 4) / 4]\r"
     ]
    },
    {
     "name": "stdout",
     "output_type": "stream",
     "text": [
      "+------+-------+---------------+-----------+-----------+------+------+---------+-------+\n",
      "|emp_id|   name|superior_emp_id|year_joined|emp_dept_id|gender|salary|dept_name|dept_id|\n",
      "+------+-------+---------------+-----------+-----------+------+------+---------+-------+\n",
      "|     1|   John|             -1|       2018|         10|     M|  3000|  Finance|     10|\n",
      "|     3| Dustin|              1|       2010|         10|     M|  1000|  Finance|     10|\n",
      "|     4|  Nancy|              2|       2005|         10|     F|  2000|  Finance|     10|\n",
      "|     2|Emerald|              1|       2010|         20|     F|  4000|Marketing|     20|\n",
      "|  NULL|   NULL|           NULL|       NULL|       NULL|  NULL|  NULL|    Sales|     30|\n",
      "|     5|  Brown|              2|       2010|         40|      |    -1|       IT|     40|\n",
      "|     6|  Brown|              2|       2010|         50|      |    -1|     NULL|   NULL|\n",
      "+------+-------+---------------+-----------+-----------+------+------+---------+-------+\n",
      "\n"
     ]
    },
    {
     "name": "stderr",
     "output_type": "stream",
     "text": [
      "                                                                                \r"
     ]
    }
   ],
   "source": [
    "#outer join\n",
    "empDF.join(deptDF,empDF.emp_dept_id ==  deptDF.dept_id,\"outer\").show()"
   ]
  },
  {
   "cell_type": "code",
   "execution_count": 6,
   "id": "f5208d77-8601-4538-9aba-d9b130ee1e65",
   "metadata": {},
   "outputs": [
    {
     "name": "stderr",
     "output_type": "stream",
     "text": [
      "                                                                                \r"
     ]
    },
    {
     "name": "stdout",
     "output_type": "stream",
     "text": [
      "+------+-------+---------------+-----------+-----------+------+------+---------+-------+\n",
      "|emp_id|   name|superior_emp_id|year_joined|emp_dept_id|gender|salary|dept_name|dept_id|\n",
      "+------+-------+---------------+-----------+-----------+------+------+---------+-------+\n",
      "|     1|   John|             -1|       2018|         10|     M|  3000|  Finance|     10|\n",
      "|     3| Dustin|              1|       2010|         10|     M|  1000|  Finance|     10|\n",
      "|     2|Emerald|              1|       2010|         20|     F|  4000|Marketing|     20|\n",
      "|     4|  Nancy|              2|       2005|         10|     F|  2000|  Finance|     10|\n",
      "|     6|  Brown|              2|       2010|         50|      |    -1|     NULL|   NULL|\n",
      "|     5|  Brown|              2|       2010|         40|      |    -1|       IT|     40|\n",
      "+------+-------+---------------+-----------+-----------+------+------+---------+-------+\n",
      "\n"
     ]
    }
   ],
   "source": [
    "#left join\n",
    "empDF.join(deptDF,empDF.emp_dept_id ==  deptDF.dept_id,\"left\").show()"
   ]
  },
  {
   "cell_type": "code",
   "execution_count": 7,
   "id": "1b905d8f-0768-495f-81eb-d70f0f7d332e",
   "metadata": {},
   "outputs": [
    {
     "name": "stderr",
     "output_type": "stream",
     "text": [
      "                                                                                \r"
     ]
    },
    {
     "name": "stdout",
     "output_type": "stream",
     "text": [
      "+------+-------+---------------+-----------+-----------+------+------+---------+-------+\n",
      "|emp_id|   name|superior_emp_id|year_joined|emp_dept_id|gender|salary|dept_name|dept_id|\n",
      "+------+-------+---------------+-----------+-----------+------+------+---------+-------+\n",
      "|     4|  Nancy|              2|       2005|         10|     F|  2000|  Finance|     10|\n",
      "|     3| Dustin|              1|       2010|         10|     M|  1000|  Finance|     10|\n",
      "|     1|   John|             -1|       2018|         10|     M|  3000|  Finance|     10|\n",
      "|     2|Emerald|              1|       2010|         20|     F|  4000|Marketing|     20|\n",
      "|  NULL|   NULL|           NULL|       NULL|       NULL|  NULL|  NULL|    Sales|     30|\n",
      "|     5|  Brown|              2|       2010|         40|      |    -1|       IT|     40|\n",
      "+------+-------+---------------+-----------+-----------+------+------+---------+-------+\n",
      "\n"
     ]
    }
   ],
   "source": [
    "#right join\n",
    "empDF.join(deptDF,empDF.emp_dept_id ==  deptDF.dept_id,\"right\").show()"
   ]
  },
  {
   "cell_type": "code",
   "execution_count": 8,
   "id": "731f420a-d78f-4682-b8b1-154adeb984cf",
   "metadata": {},
   "outputs": [
    {
     "name": "stderr",
     "output_type": "stream",
     "text": [
      "[Stage 27:==============>                                           (1 + 3) / 4]\r"
     ]
    },
    {
     "name": "stdout",
     "output_type": "stream",
     "text": [
      "+------+-------+---------------+-----------+-----------+------+------+\n",
      "|emp_id|   name|superior_emp_id|year_joined|emp_dept_id|gender|salary|\n",
      "+------+-------+---------------+-----------+-----------+------+------+\n",
      "|     1|   John|             -1|       2018|         10|     M|  3000|\n",
      "|     3| Dustin|              1|       2010|         10|     M|  1000|\n",
      "|     4|  Nancy|              2|       2005|         10|     F|  2000|\n",
      "|     2|Emerald|              1|       2010|         20|     F|  4000|\n",
      "|     5|  Brown|              2|       2010|         40|      |    -1|\n",
      "+------+-------+---------------+-----------+-----------+------+------+\n",
      "\n"
     ]
    },
    {
     "name": "stderr",
     "output_type": "stream",
     "text": [
      "                                                                                \r"
     ]
    }
   ],
   "source": [
    "#left semi join\n",
    "empDF.join(deptDF,empDF.emp_dept_id ==  deptDF.dept_id,\"leftsemi\").show()"
   ]
  },
  {
   "cell_type": "code",
   "execution_count": 9,
   "id": "d2eb4c9c-7ec1-4bc8-80ec-526e6c7e66c4",
   "metadata": {},
   "outputs": [
    {
     "name": "stderr",
     "output_type": "stream",
     "text": [
      "                                                                                \r"
     ]
    },
    {
     "name": "stdout",
     "output_type": "stream",
     "text": [
      "+------+-----+---------------+-----------+-----------+------+------+\n",
      "|emp_id| name|superior_emp_id|year_joined|emp_dept_id|gender|salary|\n",
      "+------+-----+---------------+-----------+-----------+------+------+\n",
      "|     6|Brown|              2|       2010|         50|      |    -1|\n",
      "+------+-----+---------------+-----------+-----------+------+------+\n",
      "\n"
     ]
    }
   ],
   "source": [
    "#left anti join\n",
    "empDF.join(deptDF,empDF.emp_dept_id ==  deptDF.dept_id,\"leftanti\").show()"
   ]
  },
  {
   "cell_type": "code",
   "execution_count": 10,
   "id": "4dcaecc6-6544-48d8-be51-30c9a03041aa",
   "metadata": {},
   "outputs": [],
   "source": [
    "#Applying function on pandas"
   ]
  },
  {
   "cell_type": "code",
   "execution_count": 11,
   "id": "f25aeaee-7516-434d-9264-07040728d6a5",
   "metadata": {},
   "outputs": [
    {
     "name": "stdout",
     "output_type": "stream",
     "text": [
      "  First Name Middle Name Last Name  Age Gender  Salary\n",
      "0       John               Johnson   30      M   60000\n",
      "1    Matthew       River             50      M   70000\n",
      "2    Richard                Walker   42         400000\n",
      "3     Sophia       Grace     Smith   38      F  500000\n",
      "4      David     Michael    Taylor   45   None       0\n"
     ]
    }
   ],
   "source": [
    "import pandas as pd\n",
    "data = [[\"John\", \"\", \"Johnson\", 30, \"M\", 60000],\n",
    "        [\"Matthew\", \"River\", \"\", 50, \"M\", 70000],\n",
    "        [\"Richard\", \"\", \"Walker\", 42, \"\", 400000],\n",
    "        [\"Sophia\", \"Grace\", \"Smith\", 38, \"F\", 500000],\n",
    "        [\"David\", \"Michael\", \"Taylor\", 45, None, 0]]\n",
    "\n",
    "columns=['First Name','Middle Name','Last Name','Age','Gender','Salary'] \n",
    "# Create the pandas DataFrame\n",
    "pandasDF=pd.DataFrame(data=data, columns=columns)\n",
    "# print dataframe.\n",
    "print(pandasDF)"
   ]
  },
  {
   "cell_type": "code",
   "execution_count": 12,
   "id": "5ecd884d-c327-4409-a05e-9e83c96aefb6",
   "metadata": {},
   "outputs": [
    {
     "name": "stdout",
     "output_type": "stream",
     "text": [
      "First Name     5\n",
      "Middle Name    5\n",
      "Last Name      5\n",
      "Age            5\n",
      "Gender         4\n",
      "Salary         5\n",
      "dtype: int64\n"
     ]
    }
   ],
   "source": [
    "print(pandasDF.count())"
   ]
  },
  {
   "cell_type": "code",
   "execution_count": 13,
   "id": "3ab59c65-26c0-4621-801d-20ac880b8e94",
   "metadata": {},
   "outputs": [
    {
     "name": "stdout",
     "output_type": "stream",
     "text": [
      "  First Name Middle Name Last Name  Age Gender  Salary\n",
      "0       John               Johnson   30      M   60000\n",
      "1    Matthew       River             50      M   70000\n"
     ]
    }
   ],
   "source": [
    "print(pandasDF.head(2))"
   ]
  },
  {
   "cell_type": "code",
   "execution_count": 14,
   "id": "88a0d99e-c432-4043-b8e5-2e42e30ebf28",
   "metadata": {},
   "outputs": [
    {
     "name": "stdout",
     "output_type": "stream",
     "text": [
      "   A   B\n",
      "0  1  20\n",
      "1  2  30\n",
      "2  3  40\n",
      "3  4  50\n",
      "4  5  60\n"
     ]
    }
   ],
   "source": [
    "import pandas as pd\n",
    "\n",
    "# Sample data\n",
    "data = {'A': [1, 2, 3, 4, 5],\n",
    "        'B': [10, 20, 30, 40, 50]}\n",
    "\n",
    "# Create DataFrame\n",
    "df = pd.DataFrame(data)\n",
    "\n",
    "# Define a function to add the 10 in the values\n",
    "def add_values(x):\n",
    "    return x+10\n",
    "\n",
    "# Apply the function to column 'B'\n",
    "df['B'] = df['B'].apply(add_values)\n",
    "\n",
    "# Display the modified DataFrame\n",
    "print(df)"
   ]
  }
 ],
 "metadata": {
  "kernelspec": {
   "display_name": "Python 3 (ipykernel)",
   "language": "python",
   "name": "python3"
  },
  "language_info": {
   "codemirror_mode": {
    "name": "ipython",
    "version": 3
   },
   "file_extension": ".py",
   "mimetype": "text/x-python",
   "name": "python",
   "nbconvert_exporter": "python",
   "pygments_lexer": "ipython3",
   "version": "3.11.2"
  }
 },
 "nbformat": 4,
 "nbformat_minor": 5
}
